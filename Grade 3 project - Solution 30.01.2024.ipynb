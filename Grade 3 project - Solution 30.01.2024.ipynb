{
 "cells": [
  {
   "cell_type": "markdown",
   "id": "78548128",
   "metadata": {
    "id": "78548128"
   },
   "source": [
    "# Web development using Flask - Graded Project"
   ]
  },
  {
   "cell_type": "markdown",
   "id": "d9c7901b",
   "metadata": {
    "id": "d9c7901b"
   },
   "source": [
    "### Context:\n",
    "Dream Housing Finance company deals in all home loans. They have presence across all urban, semi urban and rural areas. Customer first apply for home loan after that company validates the customer eligibility for loan. Company wants to automate the loan eligibility process (real time) based on customer detail provided while filling online application form. These details are Gender, Marital Status, Education, Number of Dependents, Income, Loan Amount, Credit History and others. \n",
    "\n",
    "### Objective:\n",
    "- 1) This is a standard supervised classification task. A classification problem where we have to predict whether a loan would be approved or not. In a classification problem, we have to predict discrete values based on a given set of independent variable(s).\n",
    "\n",
    "- 2) To build a Python Flask ML application where a user have to sign up by entering the username and password and login to the website and then enter their details to check whether the loan application will get approved or not."
   ]
  },
  {
   "cell_type": "markdown",
   "id": "0d0a5b9f",
   "metadata": {
    "id": "0d0a5b9f"
   },
   "source": [
    "### Dataset Information:\n",
    "\n",
    "#### Dataset Source: https://www.kaggle.com/datasets/ssiddharth408/loan-prediction-dataset\n",
    "\n",
    "- **Loan_ID**: Unique Loan ID\n",
    "- **Gender**: Male/ Female\n",
    "- **Married**: Applicant married (Y/N)\n",
    "- **Dependents**: Number of dependents\n",
    "- **Education**: Applicant Education (Graduate/ Under Graduate)\n",
    "- **Self_Employed**: Self employed (Y/N)\n",
    "- **ApplicantIncome**: Applicant income (in dollars)\n",
    "- **CoapplicantIncome**: Coapplicant income (in dollars)\n",
    "- **LoanAmount**: Loan amount in thousands (in dollars)\n",
    "- **Loan_Amount_Term**: Term of loan in months\n",
    "- **Credit_History**: credit history meets guidelines\n",
    "- **Property_Area**: Urban/ Semi Urban/ Rural\n",
    "- **Loan_Status (Target)**: Loan approved (Y/N)"
   ]
  },
  {
   "cell_type": "markdown",
   "id": "cf35060a",
   "metadata": {
    "id": "cf35060a"
   },
   "source": [
    "### Model Building and Pickling"
   ]
  },
  {
   "cell_type": "markdown",
   "id": "04a95db0",
   "metadata": {
    "id": "04a95db0"
   },
   "source": [
    "### 1. Import required libraries and read the dataset."
   ]
  },
  {
   "cell_type": "code",
   "execution_count": 1,
   "id": "2fdbf317",
   "metadata": {
    "executionInfo": {
     "elapsed": 1907,
     "status": "ok",
     "timestamp": 1660110202857,
     "user": {
      "displayName": "Vikas HM",
      "userId": "18207387345907596827"
     },
     "user_tz": -330
    },
    "id": "2fdbf317"
   },
   "outputs": [],
   "source": [
    "import pandas as pd\n",
    "import numpy as np\n",
    "import seaborn as sns\n",
    "import matplotlib.pyplot as plt \n",
    "%matplotlib inline\n",
    "\n",
    "import sklearn\n",
    "from sklearn.preprocessing import StandardScaler,MinMaxScaler\n",
    "from sklearn.model_selection import train_test_split\n",
    "from sklearn.ensemble import GradientBoostingClassifier, AdaBoostClassifier, RandomForestClassifier\n",
    "from sklearn.metrics import accuracy_score, confusion_matrix\n",
    "\n",
    "import warnings\n",
    "warnings.filterwarnings('ignore')"
   ]
  },
  {
   "cell_type": "code",
   "execution_count": 2,
   "id": "f2f4abfd",
   "metadata": {
    "executionInfo": {
     "elapsed": 380,
     "status": "ok",
     "timestamp": 1660110234061,
     "user": {
      "displayName": "Vikas HM",
      "userId": "18207387345907596827"
     },
     "user_tz": -330
    },
    "id": "f2f4abfd"
   },
   "outputs": [
    {
     "data": {
      "text/html": [
       "<div>\n",
       "<style scoped>\n",
       "    .dataframe tbody tr th:only-of-type {\n",
       "        vertical-align: middle;\n",
       "    }\n",
       "\n",
       "    .dataframe tbody tr th {\n",
       "        vertical-align: top;\n",
       "    }\n",
       "\n",
       "    .dataframe thead th {\n",
       "        text-align: right;\n",
       "    }\n",
       "</style>\n",
       "<table border=\"1\" class=\"dataframe\">\n",
       "  <thead>\n",
       "    <tr style=\"text-align: right;\">\n",
       "      <th></th>\n",
       "      <th>loan_id</th>\n",
       "      <th>gender</th>\n",
       "      <th>married</th>\n",
       "      <th>dependents</th>\n",
       "      <th>education</th>\n",
       "      <th>self_employed</th>\n",
       "      <th>applicantincome</th>\n",
       "      <th>coapplicantincome</th>\n",
       "      <th>loanamount</th>\n",
       "      <th>loan_amount_term</th>\n",
       "      <th>credit_history</th>\n",
       "      <th>property_area</th>\n",
       "      <th>loan_status</th>\n",
       "    </tr>\n",
       "  </thead>\n",
       "  <tbody>\n",
       "    <tr>\n",
       "      <th>0</th>\n",
       "      <td>lp001002</td>\n",
       "      <td>male</td>\n",
       "      <td>no</td>\n",
       "      <td>0.0</td>\n",
       "      <td>graduate</td>\n",
       "      <td>no</td>\n",
       "      <td>5849</td>\n",
       "      <td>0.0</td>\n",
       "      <td>NaN</td>\n",
       "      <td>360.0</td>\n",
       "      <td>1.0</td>\n",
       "      <td>urban</td>\n",
       "      <td>y</td>\n",
       "    </tr>\n",
       "    <tr>\n",
       "      <th>1</th>\n",
       "      <td>lp001003</td>\n",
       "      <td>male</td>\n",
       "      <td>yes</td>\n",
       "      <td>1.0</td>\n",
       "      <td>graduate</td>\n",
       "      <td>no</td>\n",
       "      <td>4583</td>\n",
       "      <td>1508.0</td>\n",
       "      <td>128.0</td>\n",
       "      <td>360.0</td>\n",
       "      <td>1.0</td>\n",
       "      <td>rural</td>\n",
       "      <td>n</td>\n",
       "    </tr>\n",
       "    <tr>\n",
       "      <th>2</th>\n",
       "      <td>lp001005</td>\n",
       "      <td>male</td>\n",
       "      <td>yes</td>\n",
       "      <td>0.0</td>\n",
       "      <td>graduate</td>\n",
       "      <td>yes</td>\n",
       "      <td>3000</td>\n",
       "      <td>0.0</td>\n",
       "      <td>66.0</td>\n",
       "      <td>360.0</td>\n",
       "      <td>1.0</td>\n",
       "      <td>urban</td>\n",
       "      <td>y</td>\n",
       "    </tr>\n",
       "    <tr>\n",
       "      <th>3</th>\n",
       "      <td>lp001006</td>\n",
       "      <td>male</td>\n",
       "      <td>yes</td>\n",
       "      <td>0.0</td>\n",
       "      <td>not graduate</td>\n",
       "      <td>no</td>\n",
       "      <td>2583</td>\n",
       "      <td>2358.0</td>\n",
       "      <td>120.0</td>\n",
       "      <td>360.0</td>\n",
       "      <td>1.0</td>\n",
       "      <td>urban</td>\n",
       "      <td>y</td>\n",
       "    </tr>\n",
       "    <tr>\n",
       "      <th>4</th>\n",
       "      <td>lp001008</td>\n",
       "      <td>male</td>\n",
       "      <td>no</td>\n",
       "      <td>0.0</td>\n",
       "      <td>graduate</td>\n",
       "      <td>no</td>\n",
       "      <td>6000</td>\n",
       "      <td>0.0</td>\n",
       "      <td>141.0</td>\n",
       "      <td>360.0</td>\n",
       "      <td>1.0</td>\n",
       "      <td>urban</td>\n",
       "      <td>y</td>\n",
       "    </tr>\n",
       "  </tbody>\n",
       "</table>\n",
       "</div>"
      ],
      "text/plain": [
       "    loan_id gender married  dependents     education self_employed  \\\n",
       "0  lp001002   male      no         0.0      graduate            no   \n",
       "1  lp001003   male     yes         1.0      graduate            no   \n",
       "2  lp001005   male     yes         0.0      graduate           yes   \n",
       "3  lp001006   male     yes         0.0  not graduate            no   \n",
       "4  lp001008   male      no         0.0      graduate            no   \n",
       "\n",
       "   applicantincome  coapplicantincome  loanamount  loan_amount_term  \\\n",
       "0             5849                0.0         NaN             360.0   \n",
       "1             4583             1508.0       128.0             360.0   \n",
       "2             3000                0.0        66.0             360.0   \n",
       "3             2583             2358.0       120.0             360.0   \n",
       "4             6000                0.0       141.0             360.0   \n",
       "\n",
       "   credit_history property_area loan_status  \n",
       "0             1.0         urban           y  \n",
       "1             1.0         rural           n  \n",
       "2             1.0         urban           y  \n",
       "3             1.0         urban           y  \n",
       "4             1.0         urban           y  "
      ]
     },
     "execution_count": 2,
     "metadata": {},
     "output_type": "execute_result"
    }
   ],
   "source": [
    "df = pd.read_csv('loan approval data.csv')\n",
    "df.head()"
   ]
  },
  {
   "cell_type": "markdown",
   "id": "9658b2be",
   "metadata": {
    "id": "9658b2be"
   },
   "source": [
    "### 2. Check the first few samples, shape, info of the data and try to familiarize yourself with different features."
   ]
  },
  {
   "cell_type": "code",
   "execution_count": 3,
   "id": "a61f0323",
   "metadata": {
    "colab": {
     "base_uri": "https://localhost:8080/"
    },
    "executionInfo": {
     "elapsed": 4,
     "status": "ok",
     "timestamp": 1660110236993,
     "user": {
      "displayName": "Vikas HM",
      "userId": "18207387345907596827"
     },
     "user_tz": -330
    },
    "id": "a61f0323",
    "outputId": "42997207-95b4-46c3-d6d1-086ab7aa5468"
   },
   "outputs": [
    {
     "name": "stdout",
     "output_type": "stream",
     "text": [
      "Shape of the dataset (614, 13)\n",
      "******************************\n",
      "<class 'pandas.core.frame.DataFrame'>\n",
      "RangeIndex: 614 entries, 0 to 613\n",
      "Data columns (total 13 columns):\n",
      " #   Column             Non-Null Count  Dtype  \n",
      "---  ------             --------------  -----  \n",
      " 0   loan_id            614 non-null    object \n",
      " 1   gender             601 non-null    object \n",
      " 2   married            611 non-null    object \n",
      " 3   dependents         599 non-null    float64\n",
      " 4   education          614 non-null    object \n",
      " 5   self_employed      582 non-null    object \n",
      " 6   applicantincome    614 non-null    int64  \n",
      " 7   coapplicantincome  614 non-null    float64\n",
      " 8   loanamount         592 non-null    float64\n",
      " 9   loan_amount_term   600 non-null    float64\n",
      " 10  credit_history     564 non-null    float64\n",
      " 11  property_area      614 non-null    object \n",
      " 12  loan_status        614 non-null    object \n",
      "dtypes: float64(5), int64(1), object(7)\n",
      "memory usage: 62.5+ KB\n",
      "None\n"
     ]
    }
   ],
   "source": [
    "#  checking basic information & shape about the dataframe\n",
    "def basic_info(df):\n",
    "    temp=df.copy(deep=True)\n",
    "    print(\"Shape of the dataset\",df.shape)\n",
    "    print(\"*\"*30)\n",
    "    print(df.info())\n",
    "    \n",
    "basic_info(df)"
   ]
  },
  {
   "cell_type": "code",
   "execution_count": null,
   "id": "058667b0",
   "metadata": {},
   "outputs": [],
   "source": [
    "-> -> Shape of the dataset is (614, 13)\n",
    "-> -> 13 columns comprising of 7 categorical and 6 numerical"
   ]
  },
  {
   "cell_type": "markdown",
   "id": "229c927e",
   "metadata": {
    "id": "229c927e"
   },
   "source": [
    "### 3. Check for missing values in the dataset, if present? handle them with appropriate methods and drop redundant features."
   ]
  },
  {
   "cell_type": "code",
   "execution_count": 4,
   "id": "4af061f1",
   "metadata": {
    "colab": {
     "base_uri": "https://localhost:8080/"
    },
    "executionInfo": {
     "elapsed": 376,
     "status": "ok",
     "timestamp": 1660110239257,
     "user": {
      "displayName": "Vikas HM",
      "userId": "18207387345907596827"
     },
     "user_tz": -330
    },
    "id": "4af061f1",
    "outputId": "aa51729a-7969-4059-b03e-1f49bcbc4916"
   },
   "outputs": [
    {
     "data": {
      "text/plain": [
       "loan_id              0.000000\n",
       "gender               2.117264\n",
       "married              0.488599\n",
       "dependents           2.442997\n",
       "education            0.000000\n",
       "self_employed        5.211726\n",
       "applicantincome      0.000000\n",
       "coapplicantincome    0.000000\n",
       "loanamount           3.583062\n",
       "loan_amount_term     2.280130\n",
       "credit_history       8.143322\n",
       "property_area        0.000000\n",
       "loan_status          0.000000\n",
       "dtype: float64"
      ]
     },
     "execution_count": 4,
     "metadata": {},
     "output_type": "execute_result"
    }
   ],
   "source": [
    "## checking percentage of the missing values.\n",
    "df.isnull().sum()/len(df)*100"
   ]
  },
  {
   "cell_type": "markdown",
   "id": "aaafce75",
   "metadata": {
    "id": "aaafce75"
   },
   "source": [
    "-> We can observe that there are missing values in some columns, the percentage of the missing values are less than 10%, for now I am dropping the missing values from the dataset."
   ]
  },
  {
   "cell_type": "code",
   "execution_count": 5,
   "id": "7ddaa075",
   "metadata": {
    "executionInfo": {
     "elapsed": 3,
     "status": "ok",
     "timestamp": 1660110239943,
     "user": {
      "displayName": "Vikas HM",
      "userId": "18207387345907596827"
     },
     "user_tz": -330
    },
    "id": "7ddaa075"
   },
   "outputs": [],
   "source": [
    "## dropping missing values\n",
    "df.dropna(inplace=True)"
   ]
  },
  {
   "cell_type": "code",
   "execution_count": 6,
   "id": "f4649108",
   "metadata": {
    "colab": {
     "base_uri": "https://localhost:8080/"
    },
    "executionInfo": {
     "elapsed": 2,
     "status": "ok",
     "timestamp": 1660110242168,
     "user": {
      "displayName": "Vikas HM",
      "userId": "18207387345907596827"
     },
     "user_tz": -330
    },
    "id": "f4649108",
    "outputId": "3a556fd4-df1c-4de1-84dc-33e7546182a3"
   },
   "outputs": [
    {
     "data": {
      "text/plain": [
       "loan_id              0\n",
       "gender               0\n",
       "married              0\n",
       "dependents           0\n",
       "education            0\n",
       "self_employed        0\n",
       "applicantincome      0\n",
       "coapplicantincome    0\n",
       "loanamount           0\n",
       "loan_amount_term     0\n",
       "credit_history       0\n",
       "property_area        0\n",
       "loan_status          0\n",
       "dtype: int64"
      ]
     },
     "execution_count": 6,
     "metadata": {},
     "output_type": "execute_result"
    }
   ],
   "source": [
    "## recheck the missing values\n",
    "df.isnull().sum()"
   ]
  },
  {
   "cell_type": "code",
   "execution_count": 7,
   "id": "Jq5UFxdqUlwY",
   "metadata": {
    "executionInfo": {
     "elapsed": 2,
     "status": "ok",
     "timestamp": 1660110242535,
     "user": {
      "displayName": "Vikas HM",
      "userId": "18207387345907596827"
     },
     "user_tz": -330
    },
    "id": "Jq5UFxdqUlwY"
   },
   "outputs": [],
   "source": [
    "## dropping redundant columns\n",
    "df.drop('loan_id',axis=1,inplace=True)"
   ]
  },
  {
   "cell_type": "code",
   "execution_count": 8,
   "id": "e7a645f3",
   "metadata": {
    "colab": {
     "base_uri": "https://localhost:8080/",
     "height": 176
    },
    "executionInfo": {
     "elapsed": 4,
     "status": "ok",
     "timestamp": 1660110242941,
     "user": {
      "displayName": "Vikas HM",
      "userId": "18207387345907596827"
     },
     "user_tz": -330
    },
    "id": "e7a645f3",
    "outputId": "6c0cb6ff-8a25-4004-f49e-ba6231af7ad8"
   },
   "outputs": [
    {
     "data": {
      "text/html": [
       "<div>\n",
       "<style scoped>\n",
       "    .dataframe tbody tr th:only-of-type {\n",
       "        vertical-align: middle;\n",
       "    }\n",
       "\n",
       "    .dataframe tbody tr th {\n",
       "        vertical-align: top;\n",
       "    }\n",
       "\n",
       "    .dataframe thead th {\n",
       "        text-align: right;\n",
       "    }\n",
       "</style>\n",
       "<table border=\"1\" class=\"dataframe\">\n",
       "  <thead>\n",
       "    <tr style=\"text-align: right;\">\n",
       "      <th></th>\n",
       "      <th>gender</th>\n",
       "      <th>married</th>\n",
       "      <th>dependents</th>\n",
       "      <th>education</th>\n",
       "      <th>self_employed</th>\n",
       "      <th>applicantincome</th>\n",
       "      <th>coapplicantincome</th>\n",
       "      <th>loanamount</th>\n",
       "      <th>loan_amount_term</th>\n",
       "      <th>credit_history</th>\n",
       "      <th>property_area</th>\n",
       "      <th>loan_status</th>\n",
       "    </tr>\n",
       "  </thead>\n",
       "  <tbody>\n",
       "    <tr>\n",
       "      <th>1</th>\n",
       "      <td>male</td>\n",
       "      <td>yes</td>\n",
       "      <td>1.0</td>\n",
       "      <td>graduate</td>\n",
       "      <td>no</td>\n",
       "      <td>4583</td>\n",
       "      <td>1508.0</td>\n",
       "      <td>128.0</td>\n",
       "      <td>360.0</td>\n",
       "      <td>1.0</td>\n",
       "      <td>rural</td>\n",
       "      <td>n</td>\n",
       "    </tr>\n",
       "    <tr>\n",
       "      <th>2</th>\n",
       "      <td>male</td>\n",
       "      <td>yes</td>\n",
       "      <td>0.0</td>\n",
       "      <td>graduate</td>\n",
       "      <td>yes</td>\n",
       "      <td>3000</td>\n",
       "      <td>0.0</td>\n",
       "      <td>66.0</td>\n",
       "      <td>360.0</td>\n",
       "      <td>1.0</td>\n",
       "      <td>urban</td>\n",
       "      <td>y</td>\n",
       "    </tr>\n",
       "  </tbody>\n",
       "</table>\n",
       "</div>"
      ],
      "text/plain": [
       "  gender married  dependents education self_employed  applicantincome  \\\n",
       "1   male     yes         1.0  graduate            no             4583   \n",
       "2   male     yes         0.0  graduate           yes             3000   \n",
       "\n",
       "   coapplicantincome  loanamount  loan_amount_term  credit_history  \\\n",
       "1             1508.0       128.0             360.0             1.0   \n",
       "2                0.0        66.0             360.0             1.0   \n",
       "\n",
       "  property_area loan_status  \n",
       "1         rural           n  \n",
       "2         urban           y  "
      ]
     },
     "execution_count": 8,
     "metadata": {},
     "output_type": "execute_result"
    }
   ],
   "source": [
    "df.head(2)"
   ]
  },
  {
   "cell_type": "markdown",
   "id": "ebe594d0",
   "metadata": {
    "id": "ebe594d0"
   },
   "source": [
    "### 4. Visualize the distribution of the target column 'loan_status' with respect to various categorical features and write your observations."
   ]
  },
  {
   "cell_type": "code",
   "execution_count": 9,
   "id": "5126f2b1",
   "metadata": {},
   "outputs": [
    {
     "name": "stdout",
     "output_type": "stream",
     "text": [
      "The categorical variables are:\n",
      " ['gender', 'married', 'education', 'self_employed', 'property_area', 'loan_status'] \n",
      "\n",
      "The numerical variables are:\n",
      " ['dependents', 'applicantincome', 'coapplicantincome', 'loanamount', 'loan_amount_term', 'credit_history']\n"
     ]
    }
   ],
   "source": [
    "cat = []\n",
    "num = []\n",
    "for i in df.columns:\n",
    "    if df[i].dtypes=='object':\n",
    "        cat.append(i)\n",
    "    else:\n",
    "        num.append(i)      \n",
    "print('The categorical variables are:\\n',cat,'\\n')\n",
    "print('The numerical variables are:\\n',num)"
   ]
  },
  {
   "cell_type": "code",
   "execution_count": 10,
   "id": "1b91d054",
   "metadata": {
    "colab": {
     "base_uri": "https://localhost:8080/",
     "height": 415
    },
    "executionInfo": {
     "elapsed": 1329,
     "status": "ok",
     "timestamp": 1660110247374,
     "user": {
      "displayName": "Vikas HM",
      "userId": "18207387345907596827"
     },
     "user_tz": -330
    },
    "id": "1b91d054",
    "outputId": "ebbd4f41-6b04-4bab-8c63-000a6d1d166b"
   },
   "outputs": [
    {
     "data": {
      "image/png": "[encoded data removed]",
      "text/plain": [
       "<Figure size 3000x2500 with 6 Axes>"
      ]
     },
     "metadata": {},
     "output_type": "display_data"
    }
   ],
   "source": [
    "categorical_features = df.select_dtypes(include=[object])\n",
    "plt.figure(figsize=(30,25))\n",
    "for i,label in enumerate(categorical_features):\n",
    "    plt.subplot(6,3,i+1)\n",
    "    ax = sns.countplot(df,x=label,hue = 'loan_status')"
   ]
  },
  {
   "cell_type": "markdown",
   "id": "f96cf95e",
   "metadata": {
    "id": "f96cf95e"
   },
   "source": [
    "From the above plots we can observe that:\n",
    "->-> There is higher probability for males for loan status being yes than that of females.\n",
    "->-> Married and graduate people have the upperhand in getting the loan approved.\n",
    "->-> Non self-employed have upperhand in getting the loan approved than that of self employed.\n",
    "->-> The people live in semiurban area have the higher probability of getting the loan that of the urban and rural."
   ]
  },
  {
   "cell_type": "markdown",
   "id": "52302bf1",
   "metadata": {
    "id": "52302bf1"
   },
   "source": [
    "### 5. Encode the categorical data."
   ]
  },
  {
   "cell_type": "code",
   "execution_count": 11,
   "id": "924f6ae2",
   "metadata": {
    "executionInfo": {
     "elapsed": 2,
     "status": "ok",
     "timestamp": 1660110249735,
     "user": {
      "displayName": "Vikas HM",
      "userId": "18207387345907596827"
     },
     "user_tz": -330
    },
    "id": "924f6ae2"
   },
   "outputs": [],
   "source": [
    "## first we will manual encode the target column. 'y': 1 and 'n':0\n",
    "df['loan_status'] = df['loan_status'].replace({'y':1,'n':0})"
   ]
  },
  {
   "cell_type": "code",
   "execution_count": 12,
   "id": "503b633c",
   "metadata": {
    "colab": {
     "base_uri": "https://localhost:8080/"
    },
    "executionInfo": {
     "elapsed": 542,
     "status": "ok",
     "timestamp": 1660110250792,
     "user": {
      "displayName": "Vikas HM",
      "userId": "18207387345907596827"
     },
     "user_tz": -330
    },
    "id": "503b633c",
    "outputId": "6d0e13cb-8468-45cb-dd25-8237d40361a7"
   },
   "outputs": [
    {
     "data": {
      "text/plain": [
       "array([0, 1], dtype=int64)"
      ]
     },
     "execution_count": 12,
     "metadata": {},
     "output_type": "execute_result"
    }
   ],
   "source": [
    "df['loan_status'].unique()"
   ]
  },
  {
   "cell_type": "code",
   "execution_count": 17,
   "id": "d96054fa",
   "metadata": {},
   "outputs": [
    {
     "name": "stdout",
     "output_type": "stream",
     "text": [
      " Unique columns in Gender is  [1 0]\n",
      " Unique columns in married is  [1 0]\n",
      " Unique columns in education is  [1 0]\n",
      " Unique columns in self_employed is  [0 1]\n",
      " Unique columns in property_area is  [0 1 2]\n"
     ]
    }
   ],
   "source": [
    "## Encoding independent categoricals variables manually\n",
    "print(\" Unique columns in Gender is \", df['gender'].unique())\n",
    "print(\" Unique columns in married is \", df['married'].unique())\n",
    "print(\" Unique columns in education is \", df['education'].unique())\n",
    "print(\" Unique columns in self_employed is \", df['self_employed'].unique())\n",
    "print(\" Unique columns in property_area is \", df['property_area'].unique())"
   ]
  },
  {
   "cell_type": "code",
   "execution_count": null,
   "id": "08938801",
   "metadata": {},
   "outputs": [],
   "source": [
    "df['gender'] = df['gender'].replace({'male':1, 'female':2})\n",
    "df['married'] = df['married'].replace({'yes':1, 'no':0})\n",
    "df['education'] = df['education'].replace({'graduate':1, 'not graduate':0})\n",
    "df['self_employed'] = df['self_employed'].replace({'no':0, 'yes':1})\n",
    "df['property_area'] = df['property_area'].replace({'rural':0, 'urban':1, 'semiurban':2 })"
   ]
  },
  {
   "cell_type": "code",
   "execution_count": 19,
   "id": "ec16d984",
   "metadata": {},
   "outputs": [
    {
     "name": "stdout",
     "output_type": "stream",
     "text": [
      " Unique columns in Gender is  [1 0]\n",
      " Unique columns in married is  [1 0]\n",
      " Unique columns in education is  [1 0]\n",
      " Unique columns in self_employed is  [0 1]\n",
      " Unique columns in property_area is  [0 1 2]\n"
     ]
    }
   ],
   "source": [
    "print(\" Unique columns in Gender is \", df['gender'].unique())\n",
    "print(\" Unique columns in married is \", df['married'].unique())\n",
    "print(\" Unique columns in education is \", df['education'].unique())\n",
    "print(\" Unique columns in self_employed is \", df['self_employed'].unique())\n",
    "print(\" Unique columns in property_area is \", df['property_area'].unique())"
   ]
  },
  {
   "cell_type": "code",
   "execution_count": 20,
   "id": "79060e48",
   "metadata": {
    "colab": {
     "base_uri": "https://localhost:8080/",
     "height": 176
    },
    "executionInfo": {
     "elapsed": 3,
     "status": "ok",
     "timestamp": 1660110253291,
     "user": {
      "displayName": "Vikas HM",
      "userId": "18207387345907596827"
     },
     "user_tz": -330
    },
    "id": "79060e48",
    "outputId": "b8096dfd-d2e9-4346-e9c8-54d0b766827b"
   },
   "outputs": [
    {
     "data": {
      "text/html": [
       "<div>\n",
       "<style scoped>\n",
       "    .dataframe tbody tr th:only-of-type {\n",
       "        vertical-align: middle;\n",
       "    }\n",
       "\n",
       "    .dataframe tbody tr th {\n",
       "        vertical-align: top;\n",
       "    }\n",
       "\n",
       "    .dataframe thead th {\n",
       "        text-align: right;\n",
       "    }\n",
       "</style>\n",
       "<table border=\"1\" class=\"dataframe\">\n",
       "  <thead>\n",
       "    <tr style=\"text-align: right;\">\n",
       "      <th></th>\n",
       "      <th>gender</th>\n",
       "      <th>married</th>\n",
       "      <th>dependents</th>\n",
       "      <th>education</th>\n",
       "      <th>self_employed</th>\n",
       "      <th>applicantincome</th>\n",
       "      <th>coapplicantincome</th>\n",
       "      <th>loanamount</th>\n",
       "      <th>loan_amount_term</th>\n",
       "      <th>credit_history</th>\n",
       "      <th>property_area</th>\n",
       "      <th>loan_status</th>\n",
       "    </tr>\n",
       "  </thead>\n",
       "  <tbody>\n",
       "    <tr>\n",
       "      <th>1</th>\n",
       "      <td>1</td>\n",
       "      <td>1</td>\n",
       "      <td>1.0</td>\n",
       "      <td>1</td>\n",
       "      <td>0</td>\n",
       "      <td>4583</td>\n",
       "      <td>1508.0</td>\n",
       "      <td>128.0</td>\n",
       "      <td>360.0</td>\n",
       "      <td>1.0</td>\n",
       "      <td>0</td>\n",
       "      <td>0</td>\n",
       "    </tr>\n",
       "    <tr>\n",
       "      <th>2</th>\n",
       "      <td>1</td>\n",
       "      <td>1</td>\n",
       "      <td>0.0</td>\n",
       "      <td>1</td>\n",
       "      <td>1</td>\n",
       "      <td>3000</td>\n",
       "      <td>0.0</td>\n",
       "      <td>66.0</td>\n",
       "      <td>360.0</td>\n",
       "      <td>1.0</td>\n",
       "      <td>1</td>\n",
       "      <td>1</td>\n",
       "    </tr>\n",
       "  </tbody>\n",
       "</table>\n",
       "</div>"
      ],
      "text/plain": [
       "   gender  married  dependents  education  self_employed  applicantincome  \\\n",
       "1       1        1         1.0          1              0             4583   \n",
       "2       1        1         0.0          1              1             3000   \n",
       "\n",
       "   coapplicantincome  loanamount  loan_amount_term  credit_history  \\\n",
       "1             1508.0       128.0             360.0             1.0   \n",
       "2                0.0        66.0             360.0             1.0   \n",
       "\n",
       "   property_area  loan_status  \n",
       "1              0            0  \n",
       "2              1            1  "
      ]
     },
     "execution_count": 20,
     "metadata": {},
     "output_type": "execute_result"
    }
   ],
   "source": [
    "## lets check few rows after encoding\n",
    "df.head(2)"
   ]
  },
  {
   "cell_type": "markdown",
   "id": "d1d7113c",
   "metadata": {
    "id": "d1d7113c"
   },
   "source": [
    "### 6. Separate the target and independent features and split the data into train and test."
   ]
  },
  {
   "cell_type": "code",
   "execution_count": 21,
   "id": "222896ff",
   "metadata": {
    "executionInfo": {
     "elapsed": 2,
     "status": "ok",
     "timestamp": 1660110255052,
     "user": {
      "displayName": "Vikas HM",
      "userId": "18207387345907596827"
     },
     "user_tz": -330
    },
    "id": "222896ff"
   },
   "outputs": [],
   "source": [
    "## separate target and independent variables\n",
    "X = df.drop('loan_status',axis=1)\n",
    "y = df['loan_status']"
   ]
  },
  {
   "cell_type": "code",
   "execution_count": 22,
   "id": "e5878a9d",
   "metadata": {
    "colab": {
     "base_uri": "https://localhost:8080/"
    },
    "executionInfo": {
     "elapsed": 2,
     "status": "ok",
     "timestamp": 1660110255585,
     "user": {
      "displayName": "Vikas HM",
      "userId": "18207387345907596827"
     },
     "user_tz": -330
    },
    "id": "e5878a9d",
    "outputId": "ee342e02-1526-453b-81f7-a2e87e28b035"
   },
   "outputs": [
    {
     "data": {
      "text/plain": [
       "loan_status\n",
       "1    69.166667\n",
       "0    30.833333\n",
       "Name: proportion, dtype: float64"
      ]
     },
     "execution_count": 22,
     "metadata": {},
     "output_type": "execute_result"
    }
   ],
   "source": [
    "df['loan_status'].value_counts(normalize=True)*100"
   ]
  },
  {
   "cell_type": "code",
   "execution_count": 23,
   "id": "6ea3a1ff",
   "metadata": {
    "colab": {
     "base_uri": "https://localhost:8080/"
    },
    "executionInfo": {
     "elapsed": 389,
     "status": "ok",
     "timestamp": 1660110267259,
     "user": {
      "displayName": "Vikas HM",
      "userId": "18207387345907596827"
     },
     "user_tz": -330
    },
    "id": "6ea3a1ff",
    "outputId": "4a333aae-13f4-4ad5-e77d-3e6a8bb79d98"
   },
   "outputs": [
    {
     "name": "stdout",
     "output_type": "stream",
     "text": [
      "(336, 11) (144, 11)\n",
      "(336,) (144,)\n"
     ]
    }
   ],
   "source": [
    "X_train,X_test,y_train,y_test = train_test_split(X,y,test_size=0.3,random_state=0)\n",
    "\n",
    "print(X_train.shape,X_test.shape)\n",
    "print(y_train.shape,y_test.shape)"
   ]
  },
  {
   "cell_type": "markdown",
   "id": "169797c3",
   "metadata": {
    "id": "169797c3"
   },
   "source": [
    "### 7. Build any classification model to predict the loan status of the customer and save your model using pickle."
   ]
  },
  {
   "cell_type": "code",
   "execution_count": 24,
   "id": "3aecd72c",
   "metadata": {
    "colab": {
     "base_uri": "https://localhost:8080/"
    },
    "executionInfo": {
     "elapsed": 540,
     "status": "ok",
     "timestamp": 1660110270205,
     "user": {
      "displayName": "Vikas HM",
      "userId": "18207387345907596827"
     },
     "user_tz": -330
    },
    "id": "3aecd72c",
    "outputId": "20bbdfd5-7f95-4427-e98a-8bb888f3b07f"
   },
   "outputs": [
    {
     "data": {
      "text/html": [
       "<style>#sk-container-id-1 {color: black;background-color: white;}#sk-container-id-1 pre{padding: 0;}#sk-container-id-1 div.sk-toggleable {background-color: white;}#sk-container-id-1 label.sk-toggleable__label {cursor: pointer;display: block;width: 100%;margin-bottom: 0;padding: 0.3em;box-sizing: border-box;text-align: center;}#sk-container-id-1 label.sk-toggleable__label-arrow:before {content: \"▸\";float: left;margin-right: 0.25em;color: #696969;}#sk-container-id-1 label.sk-toggleable__label-arrow:hover:before {color: black;}#sk-container-id-1 div.sk-estimator:hover label.sk-toggleable__label-arrow:before {color: black;}#sk-container-id-1 div.sk-toggleable__content {max-height: 0;max-width: 0;overflow: hidden;text-align: left;background-color: #f0f8ff;}#sk-container-id-1 div.sk-toggleable__content pre {margin: 0.2em;color: black;border-radius: 0.25em;background-color: #f0f8ff;}#sk-container-id-1 input.sk-toggleable__control:checked~div.sk-toggleable__content {max-height: 200px;max-width: 100%;overflow: auto;}#sk-container-id-1 input.sk-toggleable__control:checked~label.sk-toggleable__label-arrow:before {content: \"▾\";}#sk-container-id-1 div.sk-estimator input.sk-toggleable__control:checked~label.sk-toggleable__label {background-color: #d4ebff;}#sk-container-id-1 div.sk-label input.sk-toggleable__control:checked~label.sk-toggleable__label {background-color: #d4ebff;}#sk-container-id-1 input.sk-hidden--visually {border: 0;clip: rect(1px 1px 1px 1px);clip: rect(1px, 1px, 1px, 1px);height: 1px;margin: -1px;overflow: hidden;padding: 0;position: absolute;width: 1px;}#sk-container-id-1 div.sk-estimator {font-family: monospace;background-color: #f0f8ff;border: 1px dotted black;border-radius: 0.25em;box-sizing: border-box;margin-bottom: 0.5em;}#sk-container-id-1 div.sk-estimator:hover {background-color: #d4ebff;}#sk-container-id-1 div.sk-parallel-item::after {content: \"\";width: 100%;border-bottom: 1px solid gray;flex-grow: 1;}#sk-container-id-1 div.sk-label:hover label.sk-toggleable__label {background-color: #d4ebff;}#sk-container-id-1 div.sk-serial::before {content: \"\";position: absolute;border-left: 1px solid gray;box-sizing: border-box;top: 0;bottom: 0;left: 50%;z-index: 0;}#sk-container-id-1 div.sk-serial {display: flex;flex-direction: column;align-items: center;background-color: white;padding-right: 0.2em;padding-left: 0.2em;position: relative;}#sk-container-id-1 div.sk-item {position: relative;z-index: 1;}#sk-container-id-1 div.sk-parallel {display: flex;align-items: stretch;justify-content: center;background-color: white;position: relative;}#sk-container-id-1 div.sk-item::before, #sk-container-id-1 div.sk-parallel-item::before {content: \"\";position: absolute;border-left: 1px solid gray;box-sizing: border-box;top: 0;bottom: 0;left: 50%;z-index: -1;}#sk-container-id-1 div.sk-parallel-item {display: flex;flex-direction: column;z-index: 1;position: relative;background-color: white;}#sk-container-id-1 div.sk-parallel-item:first-child::after {align-self: flex-end;width: 50%;}#sk-container-id-1 div.sk-parallel-item:last-child::after {align-self: flex-start;width: 50%;}#sk-container-id-1 div.sk-parallel-item:only-child::after {width: 0;}#sk-container-id-1 div.sk-dashed-wrapped {border: 1px dashed gray;margin: 0 0.4em 0.5em 0.4em;box-sizing: border-box;padding-bottom: 0.4em;background-color: white;}#sk-container-id-1 div.sk-label label {font-family: monospace;font-weight: bold;display: inline-block;line-height: 1.2em;}#sk-container-id-1 div.sk-label-container {text-align: center;}#sk-container-id-1 div.sk-container {/* jupyter's `normalize.less` sets `[hidden] { display: none; }` but bootstrap.min.css set `[hidden] { display: none !important; }` so we also need the `!important` here to be able to override the default hidden behavior on the sphinx rendered scikit-learn.org. See: https://github.com/scikit-learn/scikit-learn/issues/21755 */display: inline-block !important;position: relative;}#sk-container-id-1 div.sk-text-repr-fallback {display: none;}</style><div id=\"sk-container-id-1\" class=\"sk-top-container\"><div class=\"sk-text-repr-fallback\"><pre>AdaBoostClassifier()</pre><b>In a Jupyter environment, please rerun this cell to show the HTML representation or trust the notebook. <br />On GitHub, the HTML representation is unable to render, please try loading this page with nbviewer.org.</b></div><div class=\"sk-container\" hidden><div class=\"sk-item\"><div class=\"sk-estimator sk-toggleable\"><input class=\"sk-toggleable__control sk-hidden--visually\" id=\"sk-estimator-id-1\" type=\"checkbox\" checked><label for=\"sk-estimator-id-1\" class=\"sk-toggleable__label sk-toggleable__label-arrow\">AdaBoostClassifier</label><div class=\"sk-toggleable__content\"><pre>AdaBoostClassifier()</pre></div></div></div></div></div>"
      ],
      "text/plain": [
       "AdaBoostClassifier()"
      ]
     },
     "execution_count": 24,
     "metadata": {},
     "output_type": "execute_result"
    }
   ],
   "source": [
    "## Let us build simple Adaptive Boosting classifier model\n",
    "ab = AdaBoostClassifier()\n",
    "ab.fit(X_train,y_train)"
   ]
  },
  {
   "cell_type": "code",
   "execution_count": 25,
   "id": "5f361df4",
   "metadata": {
    "colab": {
     "base_uri": "https://localhost:8080/"
    },
    "executionInfo": {
     "elapsed": 371,
     "status": "ok",
     "timestamp": 1660110289666,
     "user": {
      "displayName": "Vikas HM",
      "userId": "18207387345907596827"
     },
     "user_tz": -330
    },
    "id": "5f361df4",
    "outputId": "8da7ce35-57d0-47e9-c81d-997330a3898e"
   },
   "outputs": [
    {
     "name": "stdout",
     "output_type": "stream",
     "text": [
      "accuracy train: 0.875\n",
      "accuarcy test 0.7222222222222222\n"
     ]
    }
   ],
   "source": [
    "## Let us check the accuracy to see hows our model is performing\n",
    "\n",
    "y_train_pred = ab.predict(X_train)\n",
    "y_test_pred = ab.predict(X_test)\n",
    "\n",
    "accuracy_train = accuracy_score(y_train,y_train_pred)\n",
    "accuracy_test = accuracy_score(y_test,y_test_pred)\n",
    "\n",
    "print('accuracy train:',accuracy_train)\n",
    "print('accuarcy test',accuracy_test)"
   ]
  },
  {
   "cell_type": "code",
   "execution_count": 34,
   "id": "006f3434",
   "metadata": {
    "colab": {
     "base_uri": "https://localhost:8080/",
     "height": 279
    },
    "executionInfo": {
     "elapsed": 837,
     "status": "ok",
     "timestamp": 1660110293514,
     "user": {
      "displayName": "Vikas HM",
      "userId": "18207387345907596827"
     },
     "user_tz": -330
    },
    "id": "006f3434",
    "outputId": "3840f8bc-3083-4183-af3c-3ecb56e62e61"
   },
   "outputs": [
    {
     "ename": "ImportError",
     "evalue": "cannot import name 'plot_confusion_matrix' from 'sklearn.metrics' (C:\\Anaconda\\Lib\\site-packages\\sklearn\\metrics\\__init__.py)",
     "output_type": "error",
     "traceback": [
      "\u001b[1;31m---------------------------------------------------------------------------\u001b[0m",
      "\u001b[1;31mImportError\u001b[0m                               Traceback (most recent call last)",
      "Cell \u001b[1;32mIn[34], line 2\u001b[0m\n\u001b[0;32m      1\u001b[0m \u001b[38;5;66;03m## Confusion matrix using test data\u001b[39;00m\n\u001b[1;32m----> 2\u001b[0m \u001b[38;5;28;01mfrom\u001b[39;00m \u001b[38;5;21;01msklearn\u001b[39;00m\u001b[38;5;21;01m.\u001b[39;00m\u001b[38;5;21;01mmetrics\u001b[39;00m \u001b[38;5;28;01mimport\u001b[39;00m plot_confusion_matrix\n\u001b[0;32m      3\u001b[0m plot_confusion_matrix(ab, X_test, y_test)  \n\u001b[0;32m      4\u001b[0m plt\u001b[38;5;241m.\u001b[39mshow()\n",
      "\u001b[1;31mImportError\u001b[0m: cannot import name 'plot_confusion_matrix' from 'sklearn.metrics' (C:\\Anaconda\\Lib\\site-packages\\sklearn\\metrics\\__init__.py)"
     ]
    }
   ],
   "source": [
    "## Confusion matrix using test data\n",
    "from sklearn.metrics import plot_confusion_matrix\n",
    "plot_confusion_matrix(ab, X_test, y_test)  \n",
    "plt.show()"
   ]
  },
  {
   "cell_type": "markdown",
   "id": "7a08bb49",
   "metadata": {
    "id": "7a08bb49"
   },
   "source": [
    "### Pickling - Creating a pickle file with an extension as .pkl"
   ]
  },
  {
   "cell_type": "code",
   "execution_count": 25,
   "id": "a398dd56",
   "metadata": {
    "executionInfo": {
     "elapsed": 475,
     "status": "ok",
     "timestamp": 1660110308438,
     "user": {
      "displayName": "Vikas HM",
      "userId": "18207387345907596827"
     },
     "user_tz": -330
    },
    "id": "a398dd56"
   },
   "outputs": [],
   "source": [
    "import pickle\n",
    "# Saving model to disk\n",
    "pickle.dump(ab, open('model.pkl','wb'))"
   ]
  },
  {
   "cell_type": "markdown",
   "id": "ee6ddb81",
   "metadata": {
    "id": "ee6ddb81"
   },
   "source": [
    "### Buidling a Machine Learning application using Python Flask Framework."
   ]
  },
  {
   "cell_type": "markdown",
   "id": "080e344f",
   "metadata": {
    "id": "080e344f"
   },
   "source": [
    "#### Now open a `new folder/new project` in `visual studio/pycharm` that should contain the `\"Templates\"`, `\"Static\"` folder and the `\"model.pkl\"` file *make sure you are using a virutal environment and install required packages.*"
   ]
  },
  {
   "cell_type": "code",
   "execution_count": null,
   "id": "2648f575",
   "metadata": {
    "id": "2648f575"
   },
   "outputs": [],
   "source": [
    "### For the Flask application, i have uploaded only templates and py files. File size is more than 100MB so unable to upload in git. "
   ]
  },
  {
   "cell_type": "markdown",
   "id": "39512434",
   "metadata": {
    "id": "39512434"
   },
   "source": [
    "-------\n",
    "## Happy Learning:)\n",
    "-----"
   ]
  }
 ],
 "metadata": {
  "colab": {
   "collapsed_sections": [],
   "name": "Model Building and Pickling.ipynb",
   "provenance": []
  },
  "kernelspec": {
   "display_name": "Python 3 (ipykernel)",
   "language": "python",
   "name": "python3"
  },
  "language_info": {
   "codemirror_mode": {
    "name": "ipython",
    "version": 3
   },
   "file_extension": ".py",
   "mimetype": "text/x-python",
   "name": "python",
   "nbconvert_exporter": "python",
   "pygments_lexer": "ipython3",
   "version": "3.11.5"
  }
 },
 "nbformat": 4,
 "nbformat_minor": 5
}
